{
 "nbformat": 4,
 "nbformat_minor": 0,
 "metadata": {
  "colab": {
   "provenance": []
  },
  "kernelspec": {
   "name": "python3",
   "display_name": "Python 3"
  },
  "language_info": {
   "name": "python"
  }
 },
 "cells": [
  {
   "cell_type": "code",
   "execution_count": 1,
   "metadata": {
    "id": "hu54j531w8wj",
    "executionInfo": {
     "status": "ok",
     "timestamp": 1699969788179,
     "user_tz": -60,
     "elapsed": 6698,
     "user": {
      "displayName": "Dominic Liebel",
      "userId": "07688395430318574683"
     }
    }
   },
   "outputs": [],
   "source": [
    "import torch\n",
    "print(\"Test\")"
   ]
  }
 ]
}
